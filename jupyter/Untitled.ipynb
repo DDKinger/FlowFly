{
 "cells": [
  {
   "cell_type": "code",
   "execution_count": null,
   "metadata": {},
   "outputs": [
    {
     "name": "stdout",
     "output_type": "stream",
     "text": [
      "ERROR! Session/line number was not unique in database. History logging moved to new session 134\n"
     ]
    }
   ],
   "source": [
    "import tensorflow as tf\n",
    "import itertools\n",
    "import os\n",
    "\n",
    "target_dir = \"D:/missdd/ML_Project/Traffic_Flow_Prediction_LSTM/results/evet_test\"\n",
    "path = os.listdir(target_dir)[0]\n",
    "\n",
    "target_tag = \"mape\"\n",
    "\n",
    "def find_first_event(directory):\n",
    "    result = list(filter(lambda fn: fn.startswith(\"event\"), os.listdir(directory)))\n",
    "    if len(result) > 0:\n",
    "        return result[0]\n",
    "    else:\n",
    "        raise ValueError(\"No event file found\")\n",
    "\n",
    "def fetch_tag(path, target_tag, *islice_args):\n",
    "    return [\n",
    "        (e.step, v.simple_value)\n",
    "        for e in itertools.islice(tf.train.summary_iterator(target_dir + path), *islice_args)\n",
    "        for v in e.summary.value\n",
    "        if v.tag == target_tag\n",
    "    ]\n",
    "\n",
    "# Fetch first 10 event from event file with given path, with `target_tag`\n",
    "print(fetch_tag(find_first_event(target_dir), target_tag, 10))"
   ]
  },
  {
   "cell_type": "code",
   "execution_count": 15,
   "metadata": {},
   "outputs": [
    {
     "name": "stdout",
     "output_type": "stream",
     "text": [
      "['events.out.tfevents.1553578069.dd-desktop']\n",
      "\n",
      "\n",
      "value {\n",
      "  tag: \"valid/mape\"\n",
      "  simple_value: 0.1807311773300171\n",
      "}\n",
      "\n",
      "value {\n",
      "  tag: \"valid/mae\"\n",
      "  simple_value: 57.04261779785156\n",
      "}\n",
      "\n",
      "value {\n",
      "  tag: \"valid/rmse\"\n",
      "  simple_value: 81.0635986328125\n",
      "}\n",
      "\n",
      "value {\n",
      "  tag: \"valid/mape\"\n",
      "  simple_value: 0.15080146491527557\n",
      "}\n",
      "\n",
      "value {\n",
      "  tag: \"valid/mae\"\n",
      "  simple_value: 43.42003631591797\n",
      "}\n",
      "\n",
      "value {\n",
      "  tag: \"valid/rmse\"\n",
      "  simple_value: 63.39045333862305\n",
      "}\n",
      "\n",
      "value {\n",
      "  tag: \"valid/mape\"\n",
      "  simple_value: 0.1252068132162094\n",
      "}\n",
      "\n",
      "value {\n",
      "  tag: \"valid/mae\"\n",
      "  simple_value: 35.60527801513672\n",
      "}\n",
      "\n"
     ]
    }
   ],
   "source": [
    "target_dir = \"D:/missdd/ML_Project/Traffic_Flow_Prediction_LSTM/results/evet_test/\"\n",
    "path = os.listdir(target_dir)[0]\n",
    "\n",
    "target_tag = \"accuracy_1\"\n",
    "\n",
    "def find_first_event(directory):\n",
    "    result = list(filter(lambda fn: fn.startswith(\"event\"), os.listdir(directory)))\n",
    "    if len(result) > 0:\n",
    "        print(result)\n",
    "        return result[0]\n",
    "    else:\n",
    "        raise ValueError(\"No event file found\")\n",
    "\n",
    "def fetch_tag(path, target_tag, *islice_args):\n",
    "    for e in itertools.islice(tf.train.summary_iterator(target_dir + path), *islice_args):\n",
    "        print(e.summary)\n",
    "\n",
    "# # Fetch first 10 event from event file with given path, with `target_tag`\n",
    "# print(fetch_tag(find_first_event(target_dir), target_tag, 10))\n",
    "fetch_tag(find_first_event(target_dir), target_tag, 10)"
   ]
  }
 ],
 "metadata": {
  "kernelspec": {
   "display_name": "Python 3",
   "language": "python",
   "name": "python3"
  },
  "language_info": {
   "codemirror_mode": {
    "name": "ipython",
    "version": 3
   },
   "file_extension": ".py",
   "mimetype": "text/x-python",
   "name": "python",
   "nbconvert_exporter": "python",
   "pygments_lexer": "ipython3",
   "version": "3.6.4"
  }
 },
 "nbformat": 4,
 "nbformat_minor": 2
}
