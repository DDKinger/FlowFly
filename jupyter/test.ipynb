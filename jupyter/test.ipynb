{
 "cells": [
  {
   "cell_type": "markdown",
   "metadata": {},
   "source": [
    "$\\mathrm{softmax}(x)=\\left[\\frac{\\exp(x_1)}{\\sum_i\\exp(x_i)}\\quad\\frac{\\exp(x_2)}{\\sum_i\\exp(x_i)}\\quad\\ldots\\quad\\frac{\\exp(x_i)}{\\sum_i\\exp(x_i)}\\right]$"
   ]
  },
  {
   "cell_type": "code",
   "execution_count": 12,
   "metadata": {},
   "outputs": [],
   "source": [
    "def quick_sort(nums):\n",
    "    return nums if len(nums)<=1 else quick_sort([_ for _ in nums[1:] if _ <= nums[0]]) + [nums[0]] + quick_sort([_ for _ in nums[1:] if _ > nums[0]])"
   ]
  },
  {
   "cell_type": "code",
   "execution_count": 1,
   "metadata": {},
   "outputs": [],
   "source": [
    "import os\n",
    "import scipy.io as sio\n",
    "import numpy as np\n",
    "import cntk"
   ]
  },
  {
   "cell_type": "code",
   "execution_count": 8,
   "metadata": {},
   "outputs": [],
   "source": [
    "file_path = \"D:/missdd/ML_Project/Traffic_Flow_Prediction_LSTM/data\"\n",
    "data_train= \"TrafficFlow_69_train\"\n",
    "data_test = \"TrafficFlow_69_test\""
   ]
  },
  {
   "cell_type": "code",
   "execution_count": 37,
   "metadata": {},
   "outputs": [],
   "source": [
    "x_train = sio.loadmat(os.path.join(file_path, data_train))['traffic_flow']\n",
    "x_test = sio.loadmat(os.path.join(file_path, data_test))['traffic_flow']"
   ]
  },
  {
   "cell_type": "code",
   "execution_count": 38,
   "metadata": {},
   "outputs": [
    {
     "name": "stdout",
     "output_type": "stream",
     "text": [
      "(14473, 69)\n",
      "(2953, 69)\n"
     ]
    }
   ],
   "source": [
    "print(x_train.shape)\n",
    "print(x_test.shape)"
   ]
  },
  {
   "cell_type": "code",
   "execution_count": 136,
   "metadata": {},
   "outputs": [],
   "source": [
    "x = np.concatenate((x_train, x_test))"
   ]
  },
  {
   "cell_type": "code",
   "execution_count": 9,
   "metadata": {},
   "outputs": [],
   "source": [
    "f_n_train = \"TrafficFlow_69_12week_6day_minmax_train\"\n",
    "f_n_test = \"TrafficFlow_69_12week_6day_minmax_test\"\n",
    "f_g_train = \"TrafficFlow_69_12week_6day_gaussian_train\"\n",
    "f_g_test = \"TrafficFlow_69_12week_6day_gaussian_test\"\n",
    "\n",
    "n_train = sio.loadmat(os.path.join(file_path, f_n_train))\n",
    "n_test = sio.loadmat(os.path.join(file_path, f_n_test))\n",
    "g_train = sio.loadmat(os.path.join(file_path, f_g_train))\n",
    "g_test = sio.loadmat(os.path.join(file_path, f_g_test))"
   ]
  },
  {
   "cell_type": "code",
   "execution_count": 88,
   "metadata": {},
   "outputs": [
    {
     "name": "stdout",
     "output_type": "stream",
     "text": [
      "{'__header__': b'MATLAB 5.0 MAT-file Platform: nt, Created on: Mon Oct  8 12:42:58 2018', '__version__': '1.0', '__globals__': [], 'traffic_flow': array([[0.05639731, 0.05050505, 0.04040404, ..., 0.10858586, 0.18602694,\n",
      "        0.12794613],\n",
      "       [0.06481481, 0.05387205, 0.03619529, ..., 0.12626263, 0.17424242,\n",
      "        0.10606061],\n",
      "       [0.05892256, 0.05723906, 0.04461279, ..., 0.12037037, 0.19276094,\n",
      "        0.11952862],\n",
      "       ...,\n",
      "       [0.12542088, 0.07912458, 0.10521886, ..., 0.25673401, 0.45622896,\n",
      "        0.30218855],\n",
      "       [0.11447811, 0.07407407, 0.0959596 , ..., 0.25084175, 0.41245791,\n",
      "        0.26599327],\n",
      "       [0.09680135, 0.07491582, 0.07154882, ..., 0.21212121, 0.40488215,\n",
      "        0.25757576]]), 'vmax': array([[1188]], dtype=uint16)}\n",
      "{'__header__': b'MATLAB 5.0 MAT-file Platform: nt, Created on: Mon Oct  8 12:42:58 2018', '__version__': '1.0', '__globals__': [], 'traffic_flow': array([[0.05976431, 0.05808081, 0.06060606, ..., 0.16077441, 0.19023569,\n",
      "        0.13720539],\n",
      "       [0.06313131, 0.06565657, 0.0496633 , ..., 0.13383838, 0.18939394,\n",
      "        0.13973064],\n",
      "       [0.05892256, 0.05050505, 0.04461279, ..., 0.12626263, 0.18518519,\n",
      "        0.10690236],\n",
      "       ...,\n",
      "       [0.14478114, 0.09343434, 0.11616162, ..., 0.26767677, 0.34343434,\n",
      "        0.41750842],\n",
      "       [0.15656566, 0.10185185, 0.1026936 , ..., 0.26262626, 0.34175084,\n",
      "        0.38720539],\n",
      "       [0.1456229 , 0.09427609, 0.11700337, ..., 0.25925926, 0.32070707,\n",
      "        0.3030303 ]]), 'vmax': array([[1188]], dtype=uint16)}\n",
      "{'__header__': b'MATLAB 5.0 MAT-file Platform: nt, Created on: Mon Oct  8 12:42:58 2018', '__version__': '1.0', '__globals__': [], 'traffic_flow': array([[-1.06835486, -0.96426176, -1.47484224, ..., -1.55834327,\n",
      "        -1.07372294, -1.27688642],\n",
      "       [-0.9646238 , -0.91004524, -1.52865701, ..., -1.45812519,\n",
      "        -1.13254779, -1.39772223],\n",
      "       [-1.03723554, -0.85582872, -1.42102748, ..., -1.49153122,\n",
      "        -1.04010874, -1.32336173],\n",
      "       ...,\n",
      "       [-0.21776018, -0.50342131, -0.64609485, ..., -0.71842034,\n",
      "         0.27504687, -0.3148474 ],\n",
      "       [-0.35261056, -0.5847461 , -0.76448733, ..., -0.75182637,\n",
      "         0.05655456, -0.51469125],\n",
      "       [-0.57044578, -0.57119197, -1.07661298, ..., -0.97135168,\n",
      "         0.01873859, -0.56116657]]), 'vmax': array([[1188]], dtype=uint16), 'vmean': array([[0.14309155, 0.1103885 , 0.15574875, 0.26608943, 0.29171712,\n",
      "        0.41072765, 0.26255758, 0.16851218, 0.34072642, 0.33110608,\n",
      "        0.27347793, 0.33525869, 0.27986214, 0.28215155, 0.20412072,\n",
      "        0.3553393 , 0.23891248, 0.24878296, 0.23679844, 0.27048496,\n",
      "        0.28742913, 0.2819163 , 0.29687809, 0.31839388, 0.35967211,\n",
      "        0.25484656, 0.32133798, 0.16780751, 0.16780751, 0.21012453,\n",
      "        0.29219175, 0.22691055, 0.39692108, 0.32891317, 0.36105903,\n",
      "        0.21262539, 0.18568266, 0.12879299, 0.14410347, 0.371726  ,\n",
      "        0.40311207, 0.25587423, 0.2593728 , 0.34499809, 0.14031308,\n",
      "        0.25296427, 0.39491795, 0.19798836, 0.2719033 , 0.36211317,\n",
      "        0.12064288, 0.32647868, 0.46433227, 0.23715871, 0.27804448,\n",
      "        0.31063695, 0.33050753, 0.37122568, 0.35624823, 0.18930179,\n",
      "        0.20015512, 0.28788796, 0.34177276, 0.28590094, 0.27649461,\n",
      "        0.37145714, 0.38345116, 0.40112821, 0.35921303]]), 'vstd': array([[0.08114743, 0.0621029 , 0.07820817, 0.1032833 , 0.12158737,\n",
      "        0.19488078, 0.13253849, 0.06072974, 0.14989494, 0.14423512,\n",
      "        0.11773735, 0.14422933, 0.11316618, 0.11130408, 0.0880084 ,\n",
      "        0.15654845, 0.10067295, 0.12957446, 0.09914317, 0.13363155,\n",
      "        0.14928601, 0.14345783, 0.13376097, 0.15654212, 0.16424807,\n",
      "        0.10929803, 0.1350016 , 0.08894727, 0.08894727, 0.0982093 ,\n",
      "        0.15384076, 0.09265318, 0.17171704, 0.15874524, 0.15045337,\n",
      "        0.11244871, 0.09995652, 0.04704122, 0.05444107, 0.15151206,\n",
      "        0.17242754, 0.1261216 , 0.11739268, 0.14054851, 0.05368051,\n",
      "        0.11073942, 0.17125671, 0.07915265, 0.09838479, 0.14768783,\n",
      "        0.0539814 , 0.12073666, 0.23654383, 0.09229094, 0.11841459,\n",
      "        0.13488698, 0.17446085, 0.18931957, 0.1482798 , 0.07287992,\n",
      "        0.09591982, 0.11295312, 0.13170902, 0.11814536, 0.1283636 ,\n",
      "        0.18918955, 0.17638303, 0.2003322 , 0.18111783]])}\n",
      "{'__header__': b'MATLAB 5.0 MAT-file Platform: nt, Created on: Mon Oct  8 12:42:58 2018', '__version__': '1.0', '__globals__': [], 'traffic_flow': array([[-1.02686243, -0.84227459, -1.21653137, ..., -1.26246133,\n",
      "        -1.05271407, -1.22576357],\n",
      "       [-0.98537001, -0.72028741, -1.35644976, ..., -1.41517459,\n",
      "        -1.05691584, -1.21182098],\n",
      "       [-1.03723554, -0.96426176, -1.42102748, ..., -1.45812519,\n",
      "        -1.07792472, -1.3930747 ],\n",
      "       ...,\n",
      "       [ 0.02082125, -0.27300109, -0.50617646, ..., -0.65638058,\n",
      "        -0.287991  ,  0.32186442],\n",
      "       [ 0.16604473, -0.13745978, -0.67838371, ..., -0.68501432,\n",
      "        -0.29639455,  0.15455328],\n",
      "       [ 0.03119435, -0.25944696, -0.4954135 , ..., -0.70410347,\n",
      "        -0.40143892, -0.31019987]]), 'vmax': array([[1188]], dtype=uint16), 'vmean': array([[0.14309155, 0.1103885 , 0.15574875, 0.26608943, 0.29171712,\n",
      "        0.41072765, 0.26255758, 0.16851218, 0.34072642, 0.33110608,\n",
      "        0.27347793, 0.33525869, 0.27986214, 0.28215155, 0.20412072,\n",
      "        0.3553393 , 0.23891248, 0.24878296, 0.23679844, 0.27048496,\n",
      "        0.28742913, 0.2819163 , 0.29687809, 0.31839388, 0.35967211,\n",
      "        0.25484656, 0.32133798, 0.16780751, 0.16780751, 0.21012453,\n",
      "        0.29219175, 0.22691055, 0.39692108, 0.32891317, 0.36105903,\n",
      "        0.21262539, 0.18568266, 0.12879299, 0.14410347, 0.371726  ,\n",
      "        0.40311207, 0.25587423, 0.2593728 , 0.34499809, 0.14031308,\n",
      "        0.25296427, 0.39491795, 0.19798836, 0.2719033 , 0.36211317,\n",
      "        0.12064288, 0.32647868, 0.46433227, 0.23715871, 0.27804448,\n",
      "        0.31063695, 0.33050753, 0.37122568, 0.35624823, 0.18930179,\n",
      "        0.20015512, 0.28788796, 0.34177276, 0.28590094, 0.27649461,\n",
      "        0.37145714, 0.38345116, 0.40112821, 0.35921303]]), 'vstd': array([[0.08114743, 0.0621029 , 0.07820817, 0.1032833 , 0.12158737,\n",
      "        0.19488078, 0.13253849, 0.06072974, 0.14989494, 0.14423512,\n",
      "        0.11773735, 0.14422933, 0.11316618, 0.11130408, 0.0880084 ,\n",
      "        0.15654845, 0.10067295, 0.12957446, 0.09914317, 0.13363155,\n",
      "        0.14928601, 0.14345783, 0.13376097, 0.15654212, 0.16424807,\n",
      "        0.10929803, 0.1350016 , 0.08894727, 0.08894727, 0.0982093 ,\n",
      "        0.15384076, 0.09265318, 0.17171704, 0.15874524, 0.15045337,\n",
      "        0.11244871, 0.09995652, 0.04704122, 0.05444107, 0.15151206,\n",
      "        0.17242754, 0.1261216 , 0.11739268, 0.14054851, 0.05368051,\n",
      "        0.11073942, 0.17125671, 0.07915265, 0.09838479, 0.14768783,\n",
      "        0.0539814 , 0.12073666, 0.23654383, 0.09229094, 0.11841459,\n",
      "        0.13488698, 0.17446085, 0.18931957, 0.1482798 , 0.07287992,\n",
      "        0.09591982, 0.11295312, 0.13170902, 0.11814536, 0.1283636 ,\n",
      "        0.18918955, 0.17638303, 0.2003322 , 0.18111783]])}\n"
     ]
    }
   ],
   "source": [
    "print(n_train)\n",
    "print(n_test)\n",
    "print(g_train)\n",
    "print(g_test)"
   ]
  },
  {
   "cell_type": "code",
   "execution_count": 12,
   "metadata": {},
   "outputs": [
    {
     "name": "stdout",
     "output_type": "stream",
     "text": [
      "(17280, 69) 0.0 1.0 [[1188]]\n",
      "(3456, 69) 0.0 1.0 [[1188]]\n",
      "(17280, 69) -2.6138552478681674 4.9848235661786635 [[1188]] 1.0016931198204113 [[1188]] (1, 69) (1, 69)\n",
      "(3456, 69) -2.4112407308292796 3.140981457464854 0.990939002038646 [[1188]] (1, 69) (1, 69)\n"
     ]
    }
   ],
   "source": [
    "print(n_train['traffic_flow'].shape, np.amin(n_train['traffic_flow']), np.amax(n_train['traffic_flow']), n_train['vmax'])\n",
    "print(n_test['traffic_flow'].shape, np.amin(n_test['traffic_flow']), np.amax(n_test['traffic_flow']), n_test['vmax'])\n",
    "print(g_train['traffic_flow'].shape, np.amin(g_train['traffic_flow']), np.amax(g_train['traffic_flow']), g_train['vmax'], np.std(g_train['traffic_flow']), g_train['vmax'], g_train['vmean'].shape, g_train['vstd'].shape)\n",
    "print(g_test['traffic_flow'].shape, np.amin(g_test['traffic_flow']), np.amax(g_test['traffic_flow']), np.std(g_test['traffic_flow']), g_test['vmax'], g_test['vmean'].shape, g_test['vstd'].shape)"
   ]
  },
  {
   "cell_type": "code",
   "execution_count": 6,
   "metadata": {},
   "outputs": [],
   "source": [
    "data_k1 = \"X_input_69_k1\"\n",
    "x_k1 = sio.loadmat(os.path.join(file_path, data_k1))['X_input']"
   ]
  },
  {
   "cell_type": "code",
   "execution_count": 26,
   "metadata": {},
   "outputs": [
    {
     "name": "stdout",
     "output_type": "stream",
     "text": [
      "(20736, 69)\n",
      "(17280, 69)\n"
     ]
    }
   ],
   "source": [
    "print(x.shape)\n",
    "print(x_k1.shape)"
   ]
  },
  {
   "cell_type": "code",
   "execution_count": 31,
   "metadata": {},
   "outputs": [],
   "source": [
    "x_re = x[:1440]\n",
    "for i in range(1728,len(x)-1728+1, 1728):    \n",
    "    x_re = np.concatenate((x_re, x[i:i+1440]))"
   ]
  },
  {
   "cell_type": "code",
   "execution_count": 32,
   "metadata": {},
   "outputs": [
    {
     "name": "stdout",
     "output_type": "stream",
     "text": [
      "(17280, 69)\n"
     ]
    }
   ],
   "source": [
    "print(x_re.shape)"
   ]
  },
  {
   "cell_type": "code",
   "execution_count": 34,
   "metadata": {},
   "outputs": [
    {
     "name": "stdout",
     "output_type": "stream",
     "text": [
      "True\n"
     ]
    }
   ],
   "source": [
    "print((x_k1==x_re).all())"
   ]
  },
  {
   "cell_type": "code",
   "execution_count": 39,
   "metadata": {},
   "outputs": [
    {
     "name": "stdout",
     "output_type": "stream",
     "text": [
      "True\n",
      "True\n"
     ]
    }
   ],
   "source": [
    "print((x_train[:14400]==x_re[:14400]).all())\n",
    "print((x_test[:2880]==x_re[14400:]).all())"
   ]
  },
  {
   "cell_type": "code",
   "execution_count": 26,
   "metadata": {},
   "outputs": [],
   "source": [
    "def generate_next(x, batch_size, time_step):\n",
    "    bs = batch_size\n",
    "    ts = time_step\n",
    "    n_weekday = 1440\n",
    "    n_week = 1728\n",
    "    _x = []\n",
    "    _y = []\n",
    "    _bs = 0\n",
    "    print(\"len(x):\", len(x))\n",
    "    for i in range(0, len(x)-n_week+1, n_week):\n",
    "#         print(i)\n",
    "        for j in range(i, i+n_weekday):\n",
    "            _x.append(x[j:j+ts])\n",
    "            _y.append(x[j+ts])\n",
    "            _bs += 1\n",
    "            if _bs == bs:\n",
    "#                 print(i,j)\n",
    "                _x = np.array(_x)\n",
    "                _y = np.array(_y)\n",
    "                yield _x, _y\n",
    "                _x = []\n",
    "                _y = []\n",
    "                _bs = 0"
   ]
  },
  {
   "cell_type": "code",
   "execution_count": 44,
   "metadata": {},
   "outputs": [
    {
     "name": "stdout",
     "output_type": "stream",
     "text": [
      "len(x): 3456\n",
      "(144, 4, 69) (144, 69)\n",
      "(144, 4, 69) (144, 69)\n",
      "(144, 4, 69) (144, 69)\n",
      "(144, 4, 69) (144, 69)\n",
      "(144, 4, 69) (144, 69)\n",
      "(144, 4, 69) (144, 69)\n",
      "(144, 4, 69) (144, 69)\n",
      "(144, 4, 69) (144, 69)\n",
      "(144, 4, 69) (144, 69)\n",
      "(144, 4, 69) (144, 69)\n",
      "(144, 4, 69) (144, 69)\n",
      "(144, 4, 69) (144, 69)\n",
      "(144, 4, 69) (144, 69)\n",
      "(144, 4, 69) (144, 69)\n",
      "(144, 4, 69) (144, 69)\n",
      "(144, 4, 69) (144, 69)\n",
      "(144, 4, 69) (144, 69)\n",
      "(144, 4, 69) (144, 69)\n",
      "(144, 4, 69) (144, 69)\n",
      "(144, 4, 69) (144, 69)\n"
     ]
    }
   ],
   "source": [
    "for i, j in generate_next(n_test['traffic_flow'], 144, 4):\n",
    "    print(i.shape, j.shape)\n",
    "#     print(i[:4], j[:4])"
   ]
  },
  {
   "cell_type": "code",
   "execution_count": 60,
   "metadata": {},
   "outputs": [
    {
     "name": "stdout",
     "output_type": "stream",
     "text": [
      "(14400, 1, 69)\n",
      "(14400, 69)\n"
     ]
    }
   ],
   "source": [
    "def get_xy(x, time_step):\n",
    "    ts = time_step\n",
    "    n_weekday = 1440\n",
    "    n_week = 1728\n",
    "    _x = []\n",
    "    _y = []\n",
    "    for i in range(0, len(x)-n_week+1, n_week):\n",
    "        for j in range(i, i+n_weekday):\n",
    "            _x.append(x[j:j+ts])\n",
    "            _y.append(x[j+ts])\n",
    "    return np.asarray(_x, dtype=np.float32), np.asarray(_y, dtype=np.float32)\n",
    "x_flow, target = get_xy(n_train['traffic_flow'], 1)\n",
    "print(x_flow.shape)\n",
    "print(target.shape)"
   ]
  },
  {
   "cell_type": "code",
   "execution_count": 74,
   "metadata": {},
   "outputs": [
    {
     "name": "stdout",
     "output_type": "stream",
     "text": [
      "[[[ 0  1  2  3]\n",
      "  [ 4  5  6  7]]\n",
      "\n",
      " [[ 8  9 10 11]\n",
      "  [12 13 14 15]]\n",
      "\n",
      " [[16 17 18 19]\n",
      "  [20 21 22 23]]]\n",
      "[[ 0  1  2  3]\n",
      " [ 4  5  6  7]\n",
      " [ 8  9 10 11]]\n",
      "order [2 0 1]\n",
      "shuffle\n",
      "[[[16 17 18 19]\n",
      "  [20 21 22 23]]\n",
      "\n",
      " [[ 0  1  2  3]\n",
      "  [ 4  5  6  7]]\n",
      "\n",
      " [[ 8  9 10 11]\n",
      "  [12 13 14 15]]]\n",
      "[[ 8  9 10 11]\n",
      " [ 0  1  2  3]\n",
      " [ 4  5  6  7]]\n"
     ]
    }
   ],
   "source": [
    "def shuffle(x, y):\n",
    "#     np.random.seed(4)\n",
    "    randomorder = np.arange(len(y))\n",
    "    np.random.shuffle(randomorder)\n",
    "    print(\"order\", randomorder)\n",
    "    x = x[randomorder]\n",
    "    y = y[randomorder]\n",
    "    return x, y\n",
    "a1 = np.arange(24).reshape(3,2,4)\n",
    "a2 = np.arange(12).reshape(3,4)\n",
    "print(a1)\n",
    "print(a2)\n",
    "a1, a2 = shuffle(a1, a2)\n",
    "print(\"shuffle\")\n",
    "\n",
    "print(a1)\n",
    "print(a2)"
   ]
  },
  {
   "cell_type": "code",
   "execution_count": 24,
   "metadata": {},
   "outputs": [
    {
     "name": "stdout",
     "output_type": "stream",
     "text": [
      "[[[ 0  1  2  3]\n",
      "  [ 4  5  6  7]]\n",
      "\n",
      " [[ 8  9 10 11]\n",
      "  [12 13 14 15]]\n",
      "\n",
      " [[16 17 18 19]\n",
      "  [20 21 22 23]]\n",
      "\n",
      " [[24 25 26 27]\n",
      "  [28 29 30 31]]\n",
      "\n",
      " [[32 33 34 35]\n",
      "  [36 37 38 39]]\n",
      "\n",
      " [[40 41 42 43]\n",
      "  [44 45 46 47]]]\n",
      "[[ 0  1  2  3  4  5  6  7]\n",
      " [ 8  9 10 11 12 13 14 15]\n",
      " [16 17 18 19 20 21 22 23]\n",
      " [24 25 26 27 28 29 30 31]\n",
      " [32 33 34 35 36 37 38 39]\n",
      " [40 41 42 43 44 45 46 47]]\n"
     ]
    }
   ],
   "source": [
    "a1 = np.arange(48).reshape(6,2,4)\n",
    "print(a1)\n",
    "a1 = a1.reshape(-1,a1.shape[-1]*a1.shape[-2])\n",
    "print(a1)\n"
   ]
  },
  {
   "cell_type": "code",
   "execution_count": 85,
   "metadata": {},
   "outputs": [
    {
     "ename": "NameError",
     "evalue": "name 'size' is not defined",
     "output_type": "error",
     "traceback": [
      "\u001b[1;31m---------------------------------------------------------------------------\u001b[0m",
      "\u001b[1;31mNameError\u001b[0m                                 Traceback (most recent call last)",
      "\u001b[1;32m<ipython-input-85-c91c3bd8d259>\u001b[0m in \u001b[0;36m<module>\u001b[1;34m()\u001b[0m\n\u001b[1;32m----> 1\u001b[1;33m \u001b[0msize\u001b[0m\u001b[1;33m(\u001b[0m\u001b[0ma1\u001b[0m\u001b[1;33m)\u001b[0m\u001b[1;33m\u001b[0m\u001b[0m\n\u001b[0m",
      "\u001b[1;31mNameError\u001b[0m: name 'size' is not defined"
     ]
    }
   ],
   "source": [
    "size(a1)"
   ]
  },
  {
   "cell_type": "code",
   "execution_count": 2,
   "metadata": {},
   "outputs": [
    {
     "name": "stdout",
     "output_type": "stream",
     "text": [
      "  ** using residual **  \n",
      "Warning: node 'NoOp1282', graph 'network_graph' size too small for label\n",
      "Warning: node 'NoOp614', graph 'network_graph' size too small for label\n",
      "\n"
     ]
    }
   ],
   "source": [
    "hidden_size = 512\n",
    "num_layers = 2\n",
    "keep_prob = 0.7\n",
    "use_residual = True\n",
    "resWeight = 0.3\n",
    "\n",
    "inputs = cntk.sequence.input_variable((69), name='inputs')\n",
    "target = cntk.input_variable((69), name='target')\n",
    "\n",
    "def lstm_cell():\n",
    "    _cell_creator = cntk.layers.Recurrence(cntk.layers.LSTM(hidden_size), name='basic_lstm')  \n",
    "    _cell_creator = cntk.layers.Dropout(keep_prob = keep_prob)(_cell_creator)\n",
    "    return _cell_creator\n",
    "\n",
    "_cell_creator = lstm_cell\n",
    "if use_residual:\n",
    "    if num_layers < 2:\n",
    "        raise ValueError(\"if using residual connection, num_layers should be greater than 1\")\n",
    "    print(\"  ** using residual **  \")\n",
    "    _output = _cell_creator()(inputs)\n",
    "    for _ in range(num_layers-1):\n",
    "        _output = resWeight * _cell_creator()(_output) + _output\n",
    "    # _output = _cell_creator()(_output) + _output\n",
    "else:\n",
    "    cell = cntk.layers.For(range(num_layers), lambda:_cell_creator())\n",
    "    _output = cell(inputs)\n",
    "output = cntk.sequence.last(_output)\n",
    "# output = cntk.layers.Dropout(keep_prob=keep_prob, seed=1)(output)\n",
    "output = cntk.layers.Dense(69)(output)\n",
    "loss = cntk.squared_error(output, target)\n",
    "cntk.logging.graph.plot(loss, filename='model.png')\n",
    "cost_mape = cntk.reduce_mean(cntk.abs(output-target)/target, axis=cntk.Axis.all_axes(), name='mape') \n",
    "cost_mae = cntk.reduce_mean(cntk.abs(output-target), axis=cntk.Axis.all_axes(), name='mae')\n",
    "cost_rmse = cntk.reduce_l2((output-target), axis=cntk.Axis.all_axes(), name='rmse')   \n",
    "criterion = cntk.combine([loss, cost_mape])\n",
    "cost = cntk.combine([cost_mape, cost_mae, cost_rmse])"
   ]
  },
  {
   "cell_type": "code",
   "execution_count": 143,
   "metadata": {},
   "outputs": [],
   "source": [
    "criterion = cntk.combine([loss, cost_mape])"
   ]
  },
  {
   "cell_type": "code",
   "execution_count": 144,
   "metadata": {},
   "outputs": [
    {
     "name": "stderr",
     "output_type": "stream",
     "text": [
      "D:\\software\\Anaconda3\\lib\\site-packages\\cntk\\core.py:361: UserWarning: your data is of type \"float64\", but your input variable (uid \"Input11809\") expects \"<class 'numpy.float32'>\". Please convert your data beforehand to speed up training.\n",
      "  (sample.dtype, var.uid, str(var.dtype)))\n",
      "D:\\software\\Anaconda3\\lib\\site-packages\\cntk\\core.py:361: UserWarning: your data is of type \"float64\", but your input variable (uid \"Input11810\") expects \"<class 'numpy.float32'>\". Please convert your data beforehand to speed up training.\n",
      "  (sample.dtype, var.uid, str(var.dtype)))\n"
     ]
    },
    {
     "data": {
      "text/plain": [
       "28.3543643951416"
      ]
     },
     "execution_count": 144,
     "metadata": {},
     "output_type": "execute_result"
    }
   ],
   "source": [
    "lr = 0.1\n",
    "learner = cntk.learners.adagrad(\n",
    "            output.parameters,\n",
    "            lr = cntk.learners.learning_parameter_schedule_per_sample([lr]*2+[lr/2]*3+[lr/4], epoch_size=8),\n",
    "            gradient_clipping_threshold_per_sample = 2.3,\n",
    "            gradient_clipping_with_truncation = True\n",
    "        )\n",
    "\n",
    "trainer = cntk.Trainer(None, criterion, learner)\n",
    "trainer.test_minibatch({inputs:i, target:j})"
   ]
  },
  {
   "cell_type": "code",
   "execution_count": 4,
   "metadata": {},
   "outputs": [
    {
     "name": "stdout",
     "output_type": "stream",
     "text": [
      "[1. 8.]\n",
      "0.625\n",
      "1.25\n",
      "1.5\n"
     ]
    }
   ],
   "source": [
    "inputs = cntk.input_variable((2), name='inputs')\n",
    "target = cntk.input_variable((2), name='target')\n",
    "output = inputs\n",
    "loss = cntk.squared_error(target, output)\n",
    "cost_mape = cntk.reduce_mean(cntk.abs(output-target)/target, axis=cntk.Axis.all_axes(), name='mape') \n",
    "cost_mae = cntk.reduce_mean(cntk.abs(output-target), axis=cntk.Axis.all_axes(), name='mae')\n",
    "cost_rmse = cntk.sqrt(cntk.reduce_mean(cntk.square(output-target), axis=cntk.Axis.all_axes(), name='rmse'))\n",
    "cost = cntk.combine([cost_mape, cost_mae, cost_rmse])\n",
    "a1 = np.asarray([[1,2],[0,4]], dtype=np.float32)\n",
    "a2 = np.asarray([[2,2],[2,2]], dtype=np.float32)\n",
    "print(loss.eval({inputs:a1, target:a2}))\n",
    "print(cost_mape.eval({inputs:a1, target:a2}))\n",
    "print(cost_mae.eval({inputs:a1, target:a2}))\n",
    "print(cost_rmse.eval({inputs:a1, target:a2}))\n",
    "c = cost.eval({inputs:a1, target:a2})"
   ]
  },
  {
   "cell_type": "code",
   "execution_count": 6,
   "metadata": {},
   "outputs": [
    {
     "name": "stdout",
     "output_type": "stream",
     "text": [
      "0.625\n",
      "1.25\n",
      "1.5\n"
     ]
    }
   ],
   "source": [
    "print((0.5+1+1)/4)\n",
    "print(5/4)\n",
    "print(np.sqrt(9/4))"
   ]
  },
  {
   "cell_type": "code",
   "execution_count": 5,
   "metadata": {},
   "outputs": [
    {
     "data": {
      "text/plain": [
       "0.625"
      ]
     },
     "execution_count": 5,
     "metadata": {},
     "output_type": "execute_result"
    }
   ],
   "source": [
    "(0.5+2)/4"
   ]
  },
  {
   "cell_type": "code",
   "execution_count": 162,
   "metadata": {},
   "outputs": [
    {
     "name": "stdout",
     "output_type": "stream",
     "text": [
      "1188.0\n"
     ]
    },
    {
     "name": "stderr",
     "output_type": "stream",
     "text": [
      "D:\\software\\Anaconda3\\lib\\site-packages\\cntk\\core.py:361: UserWarning: your data is of type \"float64\", but your input variable (uid \"Input16336\") expects \"<class 'numpy.float32'>\". Please convert your data beforehand to speed up training.\n",
      "  (sample.dtype, var.uid, str(var.dtype)))\n",
      "D:\\software\\Anaconda3\\lib\\site-packages\\cntk\\core.py:361: UserWarning: your data is of type \"float64\", but your input variable (uid \"Input16337\") expects \"<class 'numpy.float32'>\". Please convert your data beforehand to speed up training.\n",
      "  (sample.dtype, var.uid, str(var.dtype)))\n"
     ]
    },
    {
     "name": "stdout",
     "output_type": "stream",
     "text": [
      "[1.4952059984207153, 1.8339388370513916, 1.2984944581985474, 1.3210924863815308]\n",
      "[603.8841290473938, 603.7221150398254, 601.5847055912018, 601.6767590045929]\n"
     ]
    }
   ],
   "source": [
    "vmax = float(n_train['vmax'])\n",
    "print(vmax)\n",
    "costs = {'mape':[], 'mae':[], 'rmse':[]}\n",
    "x = np.random.rand(4,144,8,69)\n",
    "y = np.random.rand(4,144,69)\n",
    "for _x, _y in zip(x, y):\n",
    "    _costs = cost.eval({inputs:_x, target:_y})\n",
    "    for key in _costs:\n",
    "        if key.name == 'mape':\n",
    "            costs[key.name].append(float(_costs[key]))  \n",
    "        else:\n",
    "            costs[key.name].append(float(_costs[key])*vmax)\n",
    "print(costs['mape'])    \n",
    "print(costs['mae'])"
   ]
  },
  {
   "cell_type": "code",
   "execution_count": 152,
   "metadata": {},
   "outputs": [
    {
     "name": "stdout",
     "output_type": "stream",
     "text": [
      "0.5\n",
      "1.0\n",
      "2.4494898\n"
     ]
    }
   ],
   "source": [
    "print(costs['mape'])\n",
    "print(costs['mae'])\n",
    "print(costs['rmse'])"
   ]
  },
  {
   "cell_type": "code",
   "execution_count": 47,
   "metadata": {},
   "outputs": [
    {
     "name": "stdout",
     "output_type": "stream",
     "text": [
      "1287.7181\n",
      "0.9808816\n",
      "0.33523437\n",
      "35.88479\n"
     ]
    },
    {
     "name": "stderr",
     "output_type": "stream",
     "text": [
      "D:\\software\\Anaconda3\\lib\\site-packages\\cntk\\core.py:361: UserWarning: your data is of type \"float64\", but your input variable (uid \"Input6397\") expects \"<class 'numpy.float32'>\". Please convert your data beforehand to speed up training.\n",
      "  (sample.dtype, var.uid, str(var.dtype)))\n",
      "D:\\software\\Anaconda3\\lib\\site-packages\\cntk\\core.py:361: UserWarning: your data is of type \"float64\", but your input variable (uid \"Input6398\") expects \"<class 'numpy.float32'>\". Please convert your data beforehand to speed up training.\n",
      "  (sample.dtype, var.uid, str(var.dtype)))\n"
     ]
    }
   ],
   "source": [
    "print(np.sum(loss.eval({inputs:i, target:j})))\n",
    "print(cost_mape.eval({inputs:i, target:j}))\n",
    "print(cost_mae.eval({inputs:i, target:j}))\n",
    "print(cost_rmse.eval({inputs:i, target:j}))"
   ]
  },
  {
   "cell_type": "code",
   "execution_count": null,
   "metadata": {},
   "outputs": [],
   "source": [
    "print(np.mean(loss.eval({inputs:i, target:j})))\n",
    "print(cost_mape.eval({inputs:i, target:j}))\n",
    "print(cost_mae.eval({inputs:i, target:j}))\n",
    "print(cost_rmse.eval({inputs:i, target:j}))"
   ]
  },
  {
   "cell_type": "code",
   "execution_count": 122,
   "metadata": {},
   "outputs": [
    {
     "name": "stdout",
     "output_type": "stream",
     "text": [
      "[array([0.34615607, 0.16813974, 0.79670599]), array([0.37133976, 0.30197209, 0.5305618 ])]\n"
     ]
    },
    {
     "data": {
      "text/plain": [
       "array([[0.34615607, 0.16813974, 0.79670599],\n",
       "       [0.37133976, 0.30197209, 0.5305618 ]])"
      ]
     },
     "execution_count": 122,
     "metadata": {},
     "output_type": "execute_result"
    }
   ],
   "source": [
    "a1 = np.random.rand(2,3)\n",
    "a2 = []\n",
    "for i in range(len(a1)):\n",
    "    a2.append(a1[i])\n",
    "print(a2)\n",
    "a2 = np.array(a2)\n",
    "a2"
   ]
  },
  {
   "cell_type": "code",
   "execution_count": 120,
   "metadata": {},
   "outputs": [
    {
     "name": "stdout",
     "output_type": "stream",
     "text": [
      "[[0.01560606 0.42879572 0.06807407 0.25194099]\n",
      " [0.22116092 0.25319119 0.13105523 0.01203622]\n",
      " [0.1154843  0.61848026 0.97425621 0.990345  ]\n",
      " [0.4090541  0.16295443 0.63876176 0.49030535]\n",
      " [0.98940978 0.06530421 0.78323444 0.2883985 ]\n",
      " [0.24141862 0.66250457 0.24606318 0.66585912]\n",
      " [0.51730852 0.42408899 0.55468781 0.28705152]\n",
      " [0.70657471 0.41485687 0.36054556 0.82865691]\n",
      " [0.92496691 0.04600731 0.23262699 0.34851937]\n",
      " [0.81496648 0.98549143 0.9689717  0.90494835]]\n",
      "[[7]\n",
      " [5]\n",
      " [0]\n",
      " [4]\n",
      " [1]\n",
      " [1]\n",
      " [6]\n",
      " [6]\n",
      " [0]\n",
      " [2]]\n",
      "[[0.01560606 0.42879572 0.06807407 0.25194099]\n",
      " [0.22116092 0.25319119 0.13105523 0.01203622]\n",
      " [0.1154843  0.61848026 0.97425621 0.990345  ]]\n",
      "[[7]\n",
      " [5]\n",
      " [0]]\n",
      "[[0.4090541  0.16295443 0.63876176 0.49030535]\n",
      " [0.98940978 0.06530421 0.78323444 0.2883985 ]\n",
      " [0.24141862 0.66250457 0.24606318 0.66585912]]\n",
      "[[4]\n",
      " [1]\n",
      " [1]]\n",
      "[[0.51730852 0.42408899 0.55468781 0.28705152]\n",
      " [0.70657471 0.41485687 0.36054556 0.82865691]\n",
      " [0.92496691 0.04600731 0.23262699 0.34851937]]\n",
      "[[6]\n",
      " [6]\n",
      " [0]]\n"
     ]
    }
   ],
   "source": [
    "def generate_next(x, y, bs):\n",
    "    for i in range(0, len(x)-bs+1, bs):\n",
    "        yield x[i:i+bs], y[i:i+bs]\n",
    "a1 = np.random.rand(10,4)\n",
    "print(a1)\n",
    "a2 = np.random.randint(10, size=(10,1))\n",
    "print(a2)\n",
    "for i,j in generate_next(a1, a2, 3):\n",
    "    print(i)\n",
    "    print(j)"
   ]
  },
  {
   "cell_type": "code",
   "execution_count": 22,
   "metadata": {},
   "outputs": [
    {
     "data": {
      "text/plain": [
       "17280"
      ]
     },
     "execution_count": 22,
     "metadata": {},
     "output_type": "execute_result"
    }
   ],
   "source": [
    "param = {}\n",
    "params['shuffle'] = \"True\"\n",
    "params['seed'] = 0\n",
    "\n",
    "norm = np.amax(X_input)\n",
    "X_input /= norm\n",
    "Y_output /= norm\n",
    "\n",
    "X_train = X_input[:14400,:]\n",
    "X_test = X_input[14400:,:]\n",
    "Y_train = Y_output[0:14400,:]\n",
    "Y_test = Y_output[14400:,:]\n",
    "\n",
    "if params.data_Gaussian:\n",
    "    X_mean = np.mean(X_train, axis = 0)\n",
    "    X_std  = np.std(X_train, axis = 0)\n",
    "    X_train -= X_mean\n",
    "    X_train /= X_std\n",
    "    X_test -= X_mean\n",
    "    X_test /= X_std\n",
    "\n",
    "totnum=len(INPUT_train)\n",
    "printf(1, 'Size of the training dataset= %5d \\n', totnum)\n",
    "\n",
    "if params.data_shuffle:\n",
    "    np.random.seed(params.seed)\n",
    "    randomorder = np.arange(tonum)\n",
    "    np.random.shuffle(randomorder)\n",
    "    INPUT_train = INPUT_train[randomorder]\n",
    "    Y_train = Y_train[randomorder]\n"
   ]
  },
  {
   "cell_type": "code",
   "execution_count": 44,
   "metadata": {},
   "outputs": [
    {
     "name": "stdout",
     "output_type": "stream",
     "text": [
      "[[0 1]\n",
      " [2 3]\n",
      " [4 5]\n",
      " [6 7]\n",
      " [8 9]]\n",
      "[[ 2  3]\n",
      " [ 4  5]\n",
      " [ 6  7]\n",
      " [ 8  9]\n",
      " [10 11]]\n",
      "[[4 5]\n",
      " [0 1]\n",
      " [2 3]\n",
      " [6 7]\n",
      " [8 9]]\n",
      "[[ 6  7]\n",
      " [ 2  3]\n",
      " [ 4  5]\n",
      " [ 8  9]\n",
      " [10 11]]\n"
     ]
    }
   ],
   "source": [
    "import numpy as np\n",
    "np.random.seed(0)\n",
    "index = np.arange(5)\n",
    "a1 = np.arange(10).reshape(5,2)\n",
    "a2 = np.arange(2,12).reshape(5,2)\n",
    "print(a1)\n",
    "print(a2)\n",
    "np.random.shuffle(index)\n",
    "print(a1[index])\n",
    "print(a2[index])\n"
   ]
  },
  {
   "cell_type": "code",
   "execution_count": 43,
   "metadata": {},
   "outputs": [
    {
     "data": {
      "text/plain": [
       "5"
      ]
     },
     "execution_count": 43,
     "metadata": {},
     "output_type": "execute_result"
    }
   ],
   "source": [
    "def hh(a, b):\n",
    "    return a+b\n",
    "a1 = 'hh'\n",
    "a2 = eval(a1)(2,3)\n",
    "a2"
   ]
  },
  {
   "cell_type": "code",
   "execution_count": 74,
   "metadata": {},
   "outputs": [],
   "source": [
    "import math\n",
    "from matplotlib import pyplot as plt\n",
    "import numpy as np\n",
    "import os\n",
    "import pandas as pd\n",
    "import time\n",
    "\n",
    "import cntk as C\n",
    "import cntk.tests.test_utils\n",
    "cntk.tests.test_utils.set_device_from_pytest_env() # (only needed for our build system)\n",
    "\n",
    "%matplotlib inline"
   ]
  },
  {
   "cell_type": "code",
   "execution_count": 75,
   "metadata": {},
   "outputs": [],
   "source": [
    "def split_data(data, val_size=0.1, test_size=0.1):\n",
    "    \"\"\"\n",
    "    splits np.array into training, validation and test\n",
    "    \"\"\"\n",
    "    pos_test = int(len(data) * (1 - test_size))\n",
    "    pos_val = int(len(data[:pos_test]) * (1 - val_size))\n",
    "\n",
    "    train, val, test = data[:pos_val], data[pos_val:pos_test], data[pos_test:]\n",
    "\n",
    "    return {\"train\": train, \"val\": val, \"test\": test}"
   ]
  },
  {
   "cell_type": "code",
   "execution_count": 76,
   "metadata": {},
   "outputs": [],
   "source": [
    "def generate_data(fct, x, time_steps, time_shift):\n",
    "    \"\"\"\n",
    "    generate sequences to feed to rnn for fct(x)\n",
    "    \"\"\"\n",
    "    data = fct(x)\n",
    "    if not isinstance(data, pd.DataFrame):\n",
    "        data = pd.DataFrame(dict(a = data[0:len(data) - time_shift],\n",
    "                                 b = data[time_shift:]))\n",
    "    rnn_x = []\n",
    "    for i in range(len(data) - time_steps + 1):\n",
    "        rnn_x.append(data['a'].iloc[i: i + time_steps].as_matrix())\n",
    "    rnn_x = np.array(rnn_x)\n",
    "\n",
    "    # Reshape or rearrange the data from row to columns\n",
    "    # to be compatible with the input needed by the LSTM model\n",
    "    # which expects 1 float per time point in a given batch\n",
    "    rnn_x = rnn_x.reshape(rnn_x.shape + (1,))\n",
    "\n",
    "    rnn_y = data['b'].values\n",
    "    rnn_y = rnn_y[time_steps - 1 :]\n",
    "\n",
    "    # Reshape or rearrange the data from row to columns\n",
    "    # to match the input shape\n",
    "    rnn_y = rnn_y.reshape(rnn_y.shape + (1,))\n",
    "\n",
    "    return split_data(rnn_x), split_data(rnn_y)"
   ]
  },
  {
   "cell_type": "code",
   "execution_count": 77,
   "metadata": {},
   "outputs": [
    {
     "data": {
      "image/png": "[encoded data removed]",
      "text/plain": [
       "<matplotlib.figure.Figure at 0x13487e94240>"
      ]
     },
     "metadata": {
      "needs_background": "light"
     },
     "output_type": "display_data"
    }
   ],
   "source": [
    "N = 5 # input: N subsequent values\n",
    "M = 5 # output: predict 1 value M steps ahead\n",
    "X, Y = generate_data(np.sin, np.linspace(0, 100, 10000, dtype=np.float32), N, M)\n",
    "\n",
    "f, a = plt.subplots(3, 1, figsize=(12, 8))\n",
    "for j, ds in enumerate([\"train\", \"val\", \"test\"]):\n",
    "    a[j].plot(Y[ds], label=ds + ' raw');\n",
    "[i.legend() for i in a];"
   ]
  },
  {
   "cell_type": "code",
   "execution_count": 78,
   "metadata": {},
   "outputs": [],
   "source": [
    "def create_model(x):\n",
    "    \"\"\"Create the model for time series prediction\"\"\"\n",
    "    with C.layers.default_options(initial_state = 0.1):\n",
    "        m = C.layers.Recurrence(C.layers.LSTM(N))(x)\n",
    "        m = C.sequence.last(m)\n",
    "        m = C.layers.Dropout(0.2, seed=1)(m)\n",
    "        m = C.layers.Dense(1)(m)\n",
    "        return m\n"
   ]
  },
  {
   "cell_type": "code",
   "execution_count": 79,
   "metadata": {},
   "outputs": [],
   "source": [
    "def next_batch(x, y, ds):\n",
    "    \"\"\"get the next batch to process\"\"\"\n",
    "\n",
    "    def as_batch(data, start, count):\n",
    "        part = []\n",
    "        for i in range(start, start + count):\n",
    "            part.append(data[i])\n",
    "        return np.array(part)\n",
    "\n",
    "    for i in range(0, len(x[ds])-BATCH_SIZE, BATCH_SIZE):\n",
    "        yield as_batch(x[ds], i, BATCH_SIZE), as_batch(y[ds], i, BATCH_SIZE)"
   ]
  },
  {
   "cell_type": "code",
   "execution_count": 82,
   "metadata": {},
   "outputs": [],
   "source": [
    "isFast = True\n",
    "TRAINING_STEPS = 10000\n",
    "BATCH_SIZE = 100\n",
    "EPOCHS = 10 if isFast else 100\n",
    "x_axes = [C.Axis.default_batch_axis(), C.Axis.default_dynamic_axis()]\n",
    "C.input_variable(1, dynamic_axes=x_axes)\n",
    "\n",
    "# input sequences\n",
    "x = C.sequence.input_variable(1)\n",
    "\n",
    "# create the model\n",
    "z = create_model(x)\n",
    "\n",
    "# expected output (label), also the dynamic axes of the model output\n",
    "# is specified as the model of the label input\n",
    "l = C.input_variable(1, dynamic_axes=z.dynamic_axes, name=\"y\")\n",
    "\n",
    "# the learning rate\n",
    "learning_rate = 0.02\n",
    "lr_schedule = C.learning_parameter_schedule(learning_rate)\n",
    "\n",
    "# loss function\n",
    "loss = C.squared_error(z, l)\n",
    "\n",
    "# use squared error to determine error for now\n",
    "error = C.squared_error(z, l)\n",
    "\n",
    "# use fsadagrad optimizer\n",
    "momentum_schedule = C.momentum_schedule(0.9, minibatch_size=BATCH_SIZE)\n",
    "learner = C.fsadagrad(z.parameters,\n",
    "                      lr = lr_schedule,\n",
    "                      momentum = momentum_schedule,\n",
    "                      unit_gain = True)\n",
    "\n",
    "trainer = C.Trainer(z, (loss, error), [learner])"
   ]
  },
  {
   "cell_type": "code",
   "execution_count": null,
   "metadata": {},
   "outputs": [],
   "source": [
    "# train\n",
    "loss_summary = []\n",
    "start = time.time()\n",
    "for epoch in range(0, EPOCHS):\n",
    "    for x1, y1 in next_batch(X, Y, \"train\"):\n",
    "        trainer.train_minibatch({x: x1, l: y1})\n",
    "    if epoch % (EPOCHS / 10) == 0:\n",
    "        training_loss = trainer.previous_minibatch_loss_average\n",
    "        loss_summary.append(training_loss)\n",
    "        print(\"epoch: {}, loss: {:.5f}\".format(epoch, training_loss))\n",
    "\n",
    "print(\"training took {0:.1f} sec\".format(time.time() - start))\n"
   ]
  },
  {
   "cell_type": "code",
   "execution_count": 87,
   "metadata": {},
   "outputs": [
    {
     "name": "stdout",
     "output_type": "stream",
     "text": [
      "100 100\n",
      "(100, 5, 1) (100, 1)\n"
     ]
    }
   ],
   "source": [
    "i = 0\n",
    "for x1, y1 in next_batch(X, Y, \"train\"):\n",
    "        print(len(x1), len(y1))\n",
    "        print(x1.shape, y1.shape)\n",
    "        i += 1\n",
    "        if i == 1:\n",
    "            break"
   ]
  },
  {
   "cell_type": "code",
   "execution_count": 22,
   "metadata": {},
   "outputs": [],
   "source": [
    "a1 = 1.353453\n",
    "with open('test.txt', 'w') as f:\n",
    "    f.write('{0}\\n{1}\\n{2}\\n{3}'.format('e',a1,a1,a1))"
   ]
  }
 ],
 "metadata": {
  "kernelspec": {
   "display_name": "Python 3",
   "language": "python",
   "name": "python3"
  },
  "language_info": {
   "codemirror_mode": {
    "name": "ipython",
    "version": 3
   },
   "file_extension": ".py",
   "mimetype": "text/x-python",
   "name": "python",
   "nbconvert_exporter": "python",
   "pygments_lexer": "ipython3",
   "version": "3.6.4"
  }
 },
 "nbformat": 4,
 "nbformat_minor": 2
}
