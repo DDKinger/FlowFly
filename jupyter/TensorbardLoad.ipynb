{
 "cells": [
  {
   "cell_type": "code",
   "execution_count": 1,
   "metadata": {},
   "outputs": [
    {
     "name": "stdout",
     "output_type": "stream",
     "text": [
      "Z:\\Workspace\\DD\\20190401\n",
      " Volume in drive Z is ws0.home.hongxwing\n",
      " Volume Serial Number is 66EA-8510\n",
      "\n",
      " Directory of Z:\\Workspace\\DD\\20190401\n",
      "\n",
      "04/01/2019  12:57 PM    <DIR>          .\n",
      "04/01/2019  12:48 PM    <DIR>          ..\n",
      "04/01/2019  12:58 PM               746 parse.py\n",
      "04/01/2019  12:51 PM    <DIR>          result\n",
      "               1 File(s)            746 bytes\n",
      "               3 Dir(s)  495,335,849,984 bytes free\n"
     ]
    }
   ],
   "source": [
    "%cd Z:\\Workspace\\DD\\20190401\n",
    "%ls"
   ]
  },
  {
   "cell_type": "code",
   "execution_count": 34,
   "metadata": {},
   "outputs": [],
   "source": [
    "%matplotlib inline\n",
    "import matplotlib.pyplot as plt\n",
    "import numpy as np"
   ]
  },
  {
   "cell_type": "code",
   "execution_count": 12,
   "metadata": {},
   "outputs": [],
   "source": [
    "import itertools\n",
    "import tensorflow as tf\n",
    "def all_tags(path):\n",
    "    result = set()\n",
    "    for e in tf.train.summary_iterator(path):\n",
    "        for x in e.summary.value:\n",
    "            if not x.tag in result:\n",
    "                result.add(x.tag)\n",
    "    return result\n",
    "def fetch_tag(path, target_tag, *islice_args):\n",
    "    all_records = tf.train.summary_iterator(path)\n",
    "    def flat(xs):\n",
    "        for x in xs:\n",
    "            for y in x.summary.value:\n",
    "                yield {'step': x.step, 'value': y.simple_value, 'tag': y.tag}\n",
    "    all_values = flat(all_records)\n",
    "    all_values_of_tag = filter(lambda x: x['tag']==target_tag, all_values)\n",
    "    return itertools.islice(all_values_of_tag, *islice_args)"
   ]
  },
  {
   "cell_type": "code",
   "execution_count": 13,
   "metadata": {},
   "outputs": [],
   "source": [
    "path = \"./result/events.out.tfevents.1553592971.dd-desktop\""
   ]
  },
  {
   "cell_type": "code",
   "execution_count": 35,
   "metadata": {},
   "outputs": [],
   "source": [
    "def fetch_tag_as_array(path, target_tag, *islice_args):\n",
    "    xs = []\n",
    "    ys = []\n",
    "    for v in fetch_tag(path, target_tag, *islice_args):\n",
    "        xs.append(v['step'])\n",
    "        ys.append(v['value'])\n",
    "    return np.array(xs), np.array(ys)"
   ]
  },
  {
   "cell_type": "code",
   "execution_count": 44,
   "metadata": {},
   "outputs": [
    {
     "data": {
      "text/plain": [
       "[<matplotlib.lines.Line2D at 0x18c8747b1d0>,\n",
       " <matplotlib.lines.Line2D at 0x18c8747b358>]"
      ]
     },
     "execution_count": 44,
     "metadata": {},
     "output_type": "execute_result"
    },
    {
     "data": {
      "image/png": "[encoded data removed]",
      "text/plain": [
       "<Figure size 432x288 with 1 Axes>"
      ]
     },
     "metadata": {
      "needs_background": "light"
     },
     "output_type": "display_data"
    }
   ],
   "source": [
    "xs_ma, ys_ma = fetch_tag_as_array(path, 'minibatch/avg_loss', 100)\n",
    "xs_vm, ys_vm = fetch_tag_as_array(path, 'valid/mape', 100)\n",
    "plt.plot(xs_ma, ys_ma, xs_vm*1000, ys_vm)"
   ]
  },
  {
   "cell_type": "code",
   "execution_count": 33,
   "metadata": {},
   "outputs": [
    {
     "data": {
      "text/plain": [
       "[<matplotlib.lines.Line2D at 0x18c870fc128>]"
      ]
     },
     "execution_count": 33,
     "metadata": {},
     "output_type": "execute_result"
    },
    {
     "data": {
      "image/png": "[encoded data removed]",
      "text/plain": [
       "<Figure size 432x288 with 1 Axes>"
      ]
     },
     "metadata": {
      "needs_background": "light"
     },
     "output_type": "display_data"
    }
   ],
   "source": [
    "\n",
    "plt.plot(xs, ys)"
   ]
  },
  {
   "cell_type": "code",
   "execution_count": null,
   "metadata": {},
   "outputs": [],
   "source": []
  }
 ],
 "metadata": {
  "kernelspec": {
   "display_name": "Python 3",
   "language": "python",
   "name": "python3"
  },
  "language_info": {
   "codemirror_mode": {
    "name": "ipython",
    "version": 3
   },
   "file_extension": ".py",
   "mimetype": "text/x-python",
   "name": "python",
   "nbconvert_exporter": "python",
   "pygments_lexer": "ipython3",
   "version": "3.6.7"
  }
 },
 "nbformat": 4,
 "nbformat_minor": 2
}
